{
 "cells": [
  {
   "cell_type": "code",
   "execution_count": 4,
   "metadata": {},
   "outputs": [],
   "source": [
    "import pandas as pd\n",
    "from pathlib import Path\n",
    "\n",
    "def write_fasta_from_padlocks(padlock_file_path: str, output_dir: str):\n",
    "    \"\"\"\n",
    "    This function reads a CSV file containing padlocks, genes and their target sequences,\n",
    "    and writes a .fasta file for each unique gene.\n",
    "\n",
    "    Args:\n",
    "        padlock_file_path (str): The path to the CSV file containing padlocks, genes and their target sequences.\n",
    "        output_dir (str): The directory where the .fasta files will be written.\n",
    "    \"\"\"\n",
    "    # Load and format file with padlocks, genes and their target sequences\n",
    "    padlock_file = Path(padlock_file_path)\n",
    "    padlocks = pd.read_csv(padlock_file, header=0)\n",
    "    #padlocks = padlocks.drop(labels=\"Unnamed: 0\", axis=\"columns\")\n",
    "    output_dir = Path(output_dir)\n",
    "    output_dir.mkdir(parents=True, exist_ok=True)\n",
    "    \n",
    "    # Iterate through each gene\n",
    "    for gene in padlocks.gene_name.unique():\n",
    "        tmp = padlocks.loc[padlocks['gene_name'] == gene, [\"target\", \"gene_name\", \"padlock_name\"]]\n",
    "        print(f\"Writing .fasta for {gene} padlocks\", flush=True)\n",
    "        output_path = Path(output_dir) / f\"{gene}_query.fasta\"\n",
    "        with open(output_path, 'w') as output_file:\n",
    "            # Write a .fasta file with the padlock name as the identifier for each target\n",
    "            for padlock in tmp.padlock_name:\n",
    "                identifier = \">\" + padlock + \"\\n\"\n",
    "                sequence = tmp.loc[tmp[\"padlock_name\"] == padlock, \"target\"].to_string(index=False) + \"\\n\"\n",
    "                output_file.write(identifier)\n",
    "                output_file.write(sequence)\n",
    "    \n",
    "    # Write the list of fasta file paths to a .txt file\n",
    "    fasta_paths = list(output_dir.glob(\"*.fasta\"))\n",
    "    with open(output_dir / \"fasta_list.txt\", 'w') as path_file:\n",
    "        for path in fasta_paths:\n",
    "            path_file.write(str(path) + \"\\n\")"
   ]
  },
  {
   "cell_type": "code",
   "execution_count": 9,
   "metadata": {},
   "outputs": [],
   "source": [
    "output_dir = Path(\"/nemo/lab/znamenskiyp/scratch/tim_genes_queries\")    \n",
    "# Write the list of fasta file paths to a .txt file\n",
    "fasta_paths = list(output_dir.glob(\"*.fasta\"))\n",
    "with open(output_dir / \"fasta_list.txt\", 'w') as path_file:\n",
    "    for path in fasta_paths:\n",
    "        path_file.write(str(path) + \"\\n\")"
   ]
  },
  {
   "cell_type": "code",
   "execution_count": 8,
   "metadata": {},
   "outputs": [
    {
     "name": "stdout",
     "output_type": "stream",
     "text": [
      "Writing .fasta for Grin1 padlocks\n"
     ]
    },
    {
     "name": "stdout",
     "output_type": "stream",
     "text": [
      "Writing .fasta for Grin2b padlocks\n",
      "Writing .fasta for Grin2a padlocks\n",
      "Writing .fasta for Grin2a padlocks\n",
      "Writing .fasta for Grin2c padlocks\n",
      "Writing .fasta for Grin2d padlocks\n",
      "Writing .fasta for Grin3a padlocks\n",
      "Writing .fasta for Grin3b padlocks\n",
      "Writing .fasta for Cbln4 padlocks\n",
      "Writing .fasta for Cdh13 padlocks\n",
      "Writing .fasta for Npnt padlocks\n"
     ]
    }
   ],
   "source": [
    "write_fasta_from_padlocks(\"/nemo/lab/znamenskiyp/scratch/tim_genes/tim_genes_barcoded.csv\", \"/nemo/lab/znamenskiyp/scratch/tim_genes_queries\")"
   ]
  }
 ],
 "metadata": {
  "kernelspec": {
   "display_name": "Python 3",
   "language": "python",
   "name": "python3"
  },
  "language_info": {
   "codemirror_mode": {
    "name": "ipython",
    "version": 3
   },
   "file_extension": ".py",
   "mimetype": "text/x-python",
   "name": "python",
   "nbconvert_exporter": "python",
   "pygments_lexer": "ipython3",
   "version": "3.10.12"
  }
 },
 "nbformat": 4,
 "nbformat_minor": 2
}
