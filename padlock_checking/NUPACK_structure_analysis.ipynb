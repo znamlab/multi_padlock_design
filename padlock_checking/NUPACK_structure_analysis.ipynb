{
 "cells": [
  {
   "cell_type": "markdown",
   "metadata": {},
   "source": [
    "# Determining padlock secondary structure with NUPACK\n",
    "\n",
    "For a given pool of padlocks, perform multiple secondary structure analyses.\n",
    "\n",
    "\n",
    "1. Padlocks may form hairpins/homodimers that affect the binding ability of the left arm, the right arm or both arms of the padlock. These would prevent this padlock from effectively binding to the target and being ligated. To measure the effect of secondary structure on both of these arms, we can simulate a test tube containing just this padlock and its target. The readout of the simulation is the fraction of total target which was bound by padlock. If we just simulate this as the whole target sequence and the padlock, a binding event which involves only one of the arms binding to the target would still count as a bound sample, but in reality the other arm may not have bound. To ensure that neither arm has problematic secondary structure concerns we can split the target sequence into 2 pieces, corresponding to the binding sites of the left and right arms. Then we determine the fraction of left target and right target bound by the padlock in a simulated tube containing all 3 sequences. As in the real world scenario, we add the padlock at its actual concentration in the experiment, then we set the two target sequences to be at a very low concentration, mimicking cDNA found in tissue. This means that the fraction of targets found in a triple bound configuration will be very low, but the individual fractions of left arm target and right arm target bound to padlock should be near 1 for both arms for a good probe. We can use the average of these two fractions, or a similar metric to determine good/bad padlocks\n",
    "   This is done by the function: analyze_padlock_bridging\n",
    "\n",
    "2. Padlocks may form heterodimers between each other which prevent binding to targets. To ensure we capture all possible pairwise interactions, we can perform test tube simulations of every unique pair of padlocks in the pool and determine the fraction of these which bind together and the free energy of this binding. This is done by the function: submit_exhaustive_heterodimer_jobs\n"
   ]
  },
  {
   "cell_type": "code",
   "execution_count": null,
   "metadata": {},
   "outputs": [],
   "source": [
    "# Dataframe-driven tube analysis\n",
    "from pathlib import Path\n",
    "\n",
    "import numpy as np\n",
    "import pandas as pd\n",
    "\n",
    "from lib import nupack_heterodimer\n",
    "\n",
    "# Utilities moved to lib.nupack_tube_analysis\n",
    "from lib.nupack_tube_analysis import (\n",
    "    analyze_padlock_bridging,\n",
    ")"
   ]
  },
  {
   "cell_type": "code",
   "execution_count": null,
   "metadata": {},
   "outputs": [],
   "source": [
    "# Perform per padlock-target analysis\n",
    "df = pd.read_csv(\n",
    "    \"/camp/lab/znamenskiyp/home/users/becalia/code/multi_padlock_design/notebooks/monahan_panel_barcoded.csv\")\n",
    "per_df = analyze_padlock_bridging(\n",
    "    df,\n",
    "    padlock_conc=1e-9,\n",
    "    target_conc=1e-19,\n",
    "    progress=True,\n",
    "    parallel=1)\n",
    "per_df.to_csv(\"monahan_panel_barcoded_NUPACK.csv\", index=False)"
   ]
  },
  {
   "cell_type": "code",
   "execution_count": null,
   "metadata": {},
   "outputs": [],
   "source": [
    "slurm_folder = Path.home() / \"slurm_logs\" / \"olfr_probe_design\"\n",
    "slurm_folder.mkdir(parents=True, exist_ok=True)\n",
    "output_dir = Path(\"/camp/lab/znamenskiyp/scratch/old_olfr_dg_hetero_NUPACK\")\n",
    "output_dir.mkdir(parents=True, exist_ok=True)\n",
    "\n",
    "# Submit jobs (adjust n_batches/time/mem as needed)\n",
    "nupack_heterodimer.submit_exhaustive_heterodimer_jobs(\n",
    "    probe_df_path=\"/camp/lab/znamenskiyp/home/users/becalia/code/multi_padlock_design/padlock_checking/all_olf_probes_barcoded.csv\",\n",
    "    output_dir=output_dir,\n",
    "    slurm_folder=str(slurm_folder),\n",
    "    n_batches=350,\n",
    "    time=\"7-00:00:00\",\n",
    "    mem=\"8G\",\n",
    "    partition=\"ncpu\",\n",
    "    cpus_per_task=1,\n",
    "    sequence_col=\"padlock\",\n",
    "    dependency_aggregate_time=\"02:00:00\",\n",
    "    dependency_aggregate_mem=\"32G\",\n",
    "    padlock_conc=1e-9,\n",
    "    dry_run=False,\n",
    ")\n"
   ]
  },
  {
   "cell_type": "code",
   "execution_count": null,
   "metadata": {},
   "outputs": [],
   "source": [
    "# Load the output of heterodimer jobs and convert to DataFrame\n",
    "# Convert heterodimer dict -> square pandas DataFrame (index/columns = padlock names)\n",
    "slurm_folder = Path.home() / \"slurm_logs\" / \"olfr_probe_design\"\n",
    "slurm_folder.mkdir(parents=True, exist_ok=True)\n",
    "output_dir = Path(\"/camp/lab/znamenskiyp/scratch/old_olfr_dg_hetero_NUPACK\")\n",
    "output_dir.mkdir(parents=True, exist_ok=True)\n",
    "df = pd.read_pickle(output_dir / \"heterodimer_nupack_percent_matrix.pkl\")\n",
    "\n",
    "if isinstance(df, dict) and {'matrix', 'names'} <= set(df.keys()):\n",
    "    names = df['names']\n",
    "    matrix = df['matrix']\n",
    "    # Ensure numpy array\n",
    "    matrix = np.asarray(matrix)\n",
    "    if matrix.shape != (len(names), len(names)):\n",
    "        raise ValueError(f\"Matrix shape {matrix.shape} != ({len(names)}, {len(names)}) from names list length\")\n",
    "    # Optional memory optimization: downcast to float32 if float64\n",
    "    if matrix.dtype == np.float64:\n",
    "        matrix = matrix.astype('float32')\n",
    "    dg_matrix_df = pd.DataFrame(matrix, index=names, columns=names)\n",
    "    # Replace df with the DataFrame for convenience\n",
    "    df = dg_matrix_df\n",
    "    print(f\"Converted heterodimer matrix to DataFrame: shape={df.shape}, dtype={df.dtypes.iloc[0]}\")\n",
    "    # Show a small corner preview\n",
    "else:\n",
    "    raise TypeError(\"Expected df to be a dict with keys 'matrix' and 'names'.\")\n",
    "\n",
    "df.to_csv(output_dir / \"heterodimer_nupack_percent_matrix.csv\")"
   ]
  }
 ],
 "metadata": {
  "kernelspec": {
   "display_name": "multi-padlock-design",
   "language": "python",
   "name": "python3"
  },
  "language_info": {
   "codemirror_mode": {
    "name": "ipython",
    "version": 3
   },
   "file_extension": ".py",
   "mimetype": "text/x-python",
   "name": "python",
   "nbconvert_exporter": "python",
   "pygments_lexer": "ipython3",
   "version": "3.10.18"
  }
 },
 "nbformat": 4,
 "nbformat_minor": 4
}
