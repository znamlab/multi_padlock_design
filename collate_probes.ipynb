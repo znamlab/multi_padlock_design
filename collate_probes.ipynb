{
 "cells": [
  {
   "cell_type": "code",
   "execution_count": 1,
   "metadata": {},
   "outputs": [],
   "source": [
    "import os\n",
    "import glob\n",
    "import pandas as pd"
   ]
  },
  {
   "cell_type": "code",
   "execution_count": 6,
   "metadata": {},
   "outputs": [],
   "source": [
    "# Specify the name of the padlock pool\n",
    "\n",
    "padlock_pool = 'taar_genes'\n",
    "\n",
    "# Read in all csvs that begin with \"6.Probes\" and end with \".csv\"\n",
    "\n",
    "# set the directory where the subdirectories are located\n",
    "parent_dir = '/nemo/lab/znamenskiyp/scratch/'\n",
    "\n",
    "# create an empty list to hold the csv files\n",
    "csv_files = []\n",
    "\n",
    "# loop through all subdirectories that start with 'olf_chunk_'\n",
    "for subdir in [d for d in os.listdir(parent_dir) if d.startswith(f'{padlock_pool}_chunk_')]:\n",
    "    subpath = os.path.join(parent_dir, subdir)\n",
    "    \n",
    "    # check if the subdirectory contains a csv file that starts with '6.ProbesRandom'\n",
    "    if os.path.isdir(subpath) and glob.glob(os.path.join(subpath, '6.ProbesRandom*.csv')):\n",
    "        \n",
    "        # if a matching csv file is found, add its path to the list\n",
    "        csv_files.append(glob.glob(os.path.join(subpath, '6.ProbesRandom*.csv'))[0])\n",
    "        \n",
    "# read in the first csv file to get the header\n",
    "df = pd.read_csv(csv_files[0])\n",
    "\n",
    "# loop through the remaining csv files and concatenate them into one dataframe\n",
    "for csv_file in csv_files[1:]:\n",
    "    temp_df = pd.read_csv(csv_file)\n",
    "    df = pd.concat([df, temp_df], ignore_index=True)\n",
    "\n",
    "df = df[~df['acronym'].str.startswith('>')]\n",
    "df = df.dropna()\n",
    "\n",
    "df['gene_name'] = df['acronym'].str.extract(r'\\((.*?)\\)')\n",
    "\n",
    "# define a function to remove characters from a string\n",
    "def remove_chars(s, indices):\n",
    "    for i in sorted(indices, reverse=True):\n",
    "        s = s[:i] + s[i+1:]\n",
    "    return s\n",
    "\n",
    "# define the indices of the characters to remove\n",
    "indices_to_remove = [20, 21, 61, 62]\n",
    "\n",
    "# apply the function to the 'padlock' column of the dataframe\n",
    "df['padlock'] = df['padlock'].apply(lambda x: remove_chars(x, indices_to_remove))\n",
    "\n",
    "\n",
    "# save the merged dataframe to a csv file\n",
    "df.to_csv(f'{padlock_pool}_probes.csv', index=False)"
   ]
  }
 ],
 "metadata": {
  "kernelspec": {
   "display_name": "iss-preprocess",
   "language": "python",
   "name": "python3"
  },
  "language_info": {
   "codemirror_mode": {
    "name": "ipython",
    "version": 3
   },
   "file_extension": ".py",
   "mimetype": "text/x-python",
   "name": "python",
   "nbconvert_exporter": "python",
   "pygments_lexer": "ipython3",
   "version": "3.10.12"
  },
  "orig_nbformat": 4
 },
 "nbformat": 4,
 "nbformat_minor": 2
}
