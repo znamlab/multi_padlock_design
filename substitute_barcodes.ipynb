{
 "cells": [
  {
   "cell_type": "code",
   "execution_count": 10,
   "metadata": {},
   "outputs": [],
   "source": [
    "import pandas as pd\n",
    "import random\n",
    "from itertools import chain\n",
    "\n",
    "def replace_padlock_strings(csv_file, txt_file, output_name=\"\"):\n",
    "    padlock_dict = {}\n",
    "\n",
    "    # Read the .txt file containing the list of 10-character strings\n",
    "    with open(txt_file, 'r') as txt:\n",
    "        padlock_strings = txt.read().splitlines()\n",
    "\n",
    "    df = pd.read_csv(csv_file)\n",
    "    \n",
    "    #create a dictionary of padlock strings grouped by acronym\n",
    "    for _, row in df.iterrows():\n",
    "        acronym = row['acronym']\n",
    "        padlock = row['padlock']\n",
    "        if acronym not in padlock_dict:\n",
    "            padlock_dict[acronym] = []\n",
    "        padlock_dict[acronym].append(padlock)\n",
    "\n",
    "    # Assign a randomly selected and unique substituted string to all padlocks within each acronym group\n",
    "    barcodes = []\n",
    "    for acronym, padlocks in padlock_dict.items():\n",
    "        substituted_string = random.choice(padlock_strings)\n",
    "        for i in range(len(padlocks)):\n",
    "            padlock_dict[acronym][i] = padlocks[i].replace('N' * 10, substituted_string + 'C')\n",
    "            barcodes.append(substituted_string)\n",
    "        padlock_strings.remove(substituted_string)\n",
    "        \n",
    "    df['padlock'] = list(chain.from_iterable(list(padlock_dict.values())))\n",
    "    df['barcode'] = barcodes\n",
    "    add_reverse_complement(df)\n",
    "    \n",
    "    # Write the updated DataFrame to a new .csv file\n",
    "    if output_name:\n",
    "        df.to_csv(f'{output_name}.csv', index=False)\n",
    "\n",
    "    return df, padlock_dict, padlock_strings\n",
    "\n",
    "def reverse_complement(dna_sequence):\n",
    "    complement_dict = {'A': 'T', 'T': 'A', 'C': 'G', 'G': 'C'}\n",
    "    reverse_complement_seq = ''\n",
    "    \n",
    "    for base in dna_sequence[::-1]:\n",
    "        reverse_complement_seq += complement_dict.get(base, base)\n",
    "    \n",
    "    return reverse_complement_seq\n",
    "\n",
    "def add_reverse_complement(df):\n",
    "    df['RT primer'] = df['padlock'].str[:20].apply(reverse_complement)\n",
    "    return df"
   ]
  },
  {
   "cell_type": "code",
   "execution_count": null,
   "metadata": {},
   "outputs": [],
   "source": [
    "padlock_df, padlock_dict, barcode_strings = replace_padlock_strings('example.csv', 'example.txt', output_name='example')"
   ]
  }
 ],
 "metadata": {
  "kernelspec": {
   "display_name": "Python 3 (ipykernel)",
   "language": "python",
   "name": "python3"
  },
  "language_info": {
   "codemirror_mode": {
    "name": "ipython",
    "version": 3
   },
   "file_extension": ".py",
   "mimetype": "text/x-python",
   "name": "python",
   "nbconvert_exporter": "python",
   "pygments_lexer": "ipython3",
   "version": "3.10.12"
  }
 },
 "nbformat": 4,
 "nbformat_minor": 2
}
